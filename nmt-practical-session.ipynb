{
  "nbformat": 4,
  "nbformat_minor": 0,
  "metadata": {
    "colab": {
      "private_outputs": true,
      "provenance": [],
      "collapsed_sections": []
    },
    "kernelspec": {
      "name": "python3",
      "display_name": "Python 3"
    },
    "language_info": {
      "name": "python"
    },
    "accelerator": "GPU"
  },
  "cells": [
    {
      "cell_type": "markdown",
      "source": [
        "# Neural Machine Translation: a Practical Session\n",
        "\n",
        "This notebook presents a practical session to introduce the training of neural machine translation systems to students. It was created for the lab sessions of the *machine translation* module of the [IARFID](https://www.upv.es/titulaciones/MUIARFID/) master from [Universitat Politècnica de València](https://www.upv.es/en)."
      ],
      "metadata": {
        "id": "OVvY-LuYBvDh"
      }
    },
    {
      "cell_type": "markdown",
      "source": [
        "## Introduction\n",
        "\n",
        "The goal of this lab session is to build machine translation systems based on neural networks (neural machine translation; NMT) from a dataset of bilingual parallel sentences using a [custom version](https://github.com/PRHLT/OpenNMT-py/tree/lab_sessions) of the **OpenNMT-py** toolkit (Klein et al., 2017)."
      ],
      "metadata": {
        "id": "mfN-B2GCR7Q6"
      }
    },
    {
      "cell_type": "markdown",
      "source": [
        "### Dataset\n",
        "\n",
        "The dataset we are going to use in this practical session is the Spanish–English language pair of the **EuTrans** corpus (Casacuberta et al., 2004), whose content involves the interaction of a customer with a receptionist at the frontdesk of a hotel. It comes with the custom version of **OpenNMT-py** that we are using. It is located at *OpenNMT-py/dataset/EuTrans*.\n",
        "\n",
        "Here we can see an example of its content:\n",
        "\n",
        "> *por favor, ¿nos puede dar la llave de la habitación?*\n",
        "\n",
        "> *can you give us the key to the room, please?*"
      ],
      "metadata": {
        "id": "36gcaq2MOvjY"
      }
    },
    {
      "cell_type": "markdown",
      "source": [
        "### Network description\n",
        "\n",
        "The neural network that we are going to use for training the NMT system has the following configuration:\n",
        "\n",
        "* Encoder and decoder are both Transformer with 64 neurons.\n",
        "* 2 layers.\n",
        "* Hidden Transformer feed-forward of size 64.\n",
        "* 2 self-attention heads.\n",
        "* Source word vector of size 64.\n",
        "* Target word vector of size 64."
      ],
      "metadata": {
        "id": "3p5Wv5tld2TG"
      }
    },
    {
      "cell_type": "markdown",
      "source": [
        "## Setup"
      ],
      "metadata": {
        "id": "B9bDrfIxic49"
      }
    },
    {
      "cell_type": "markdown",
      "source": [
        "### Installation\n",
        "To install **OpenNMT-py**, the first step is to clone the repository:"
      ],
      "metadata": {
        "id": "8wfleXPQRxCe"
      }
    },
    {
      "cell_type": "code",
      "execution_count": null,
      "metadata": {
        "id": "bHJdgU-OBl0D"
      },
      "outputs": [],
      "source": [
        "! git clone --branch lab_sessions https://github.com/PRHLT/OpenNMT-py.git"
      ]
    },
    {
      "cell_type": "markdown",
      "source": [
        "Then, it can be easily installed through pip:"
      ],
      "metadata": {
        "id": "suREKexoWkbc"
      }
    },
    {
      "cell_type": "code",
      "source": [
        "! pip install -e OpenNMT-py/"
      ],
      "metadata": {
        "id": "qite-CciNNpi"
      },
      "execution_count": null,
      "outputs": []
    },
    {
      "cell_type": "markdown",
      "source": [
        "Some requirements are needed for the evaluation step:"
      ],
      "metadata": {
        "id": "pLT_tvj9XTmK"
      }
    },
    {
      "cell_type": "code",
      "source": [
        "! pip install sacrebleu glom"
      ],
      "metadata": {
        "id": "MLLhclH3Mf7z"
      },
      "execution_count": null,
      "outputs": []
    },
    {
      "cell_type": "markdown",
      "source": [
        "Finallly, it is recommended to install some optional requirements:"
      ],
      "metadata": {
        "id": "XEGgvLRmW341"
      }
    },
    {
      "cell_type": "code",
      "source": [
        "! pip install -r OpenNMT-py/requirements.opt.txt"
      ],
      "metadata": {
        "id": "xn6okMXXNfJK"
      },
      "execution_count": null,
      "outputs": []
    },
    {
      "cell_type": "markdown",
      "source": [
        "### Storage\n",
        "\n",
        "By default, everything generated through **Google Colab** is stored at their servers. Thus, we need to setup **Google Drive** in order to be able to save a copy of the data:"
      ],
      "metadata": {
        "id": "9gBVPkm2b1mf"
      }
    },
    {
      "cell_type": "code",
      "source": [
        "from google.colab import drive\n",
        "\n",
        "# This will prompt for authorization.\n",
        "drive.mount('/content/drive')"
      ],
      "metadata": {
        "id": "1kqjoy7-jfrJ"
      },
      "execution_count": null,
      "outputs": []
    },
    {
      "cell_type": "markdown",
      "source": [
        "Then, we are going to create a new folder inside our **Google Drive**:"
      ],
      "metadata": {
        "id": "ZGmwOHAed3kU"
      }
    },
    {
      "cell_type": "code",
      "source": [
        "! mkdir -p drive/MyDrive/NMT"
      ],
      "metadata": {
        "id": "qxrZXIiEGGVN"
      },
      "execution_count": null,
      "outputs": []
    },
    {
      "cell_type": "markdown",
      "source": [
        "## Training"
      ],
      "metadata": {
        "id": "bMy9qi_djxTe"
      }
    },
    {
      "cell_type": "markdown",
      "source": [
        "### System's configuration\n",
        "\n",
        "The network's configuration and the settings of the training process are defined at the following file:"
      ],
      "metadata": {
        "id": "yxORScqNSiiz"
      }
    },
    {
      "cell_type": "code",
      "source": [
        "%%bash\n",
        "cat <<EOF > config.yaml\n",
        "# Data\n",
        "save_data: drive/MyDrive/NMT/dataset/\n",
        "src_vocab: drive/MyDrive/NMT/dataset/EuTrans-es.vocab\n",
        "tgt_vocab: drive/MyDrive/NMT/dataset/EuTrans-en.vocab\n",
        "overwrite: False\n",
        "\n",
        "# Corpora:\n",
        "data:\n",
        "    corpus_1:\n",
        "        path_src: OpenNMT-py/dataset/EuTrans/training.es\n",
        "        path_tgt: OpenNMT-py/dataset/EuTrans/training.en\n",
        "    valid:\n",
        "        path_src: OpenNMT-py/dataset/EuTrans/development.es\n",
        "        path_tgt: OpenNMT-py/dataset/EuTrans/development.en\n",
        "# Model\n",
        "decoder_type: transformer\n",
        "encoder_type: transformer\n",
        "word_vec_size: 64\n",
        "rnn_size: 64\n",
        "layers: 2\n",
        "transformer_ff: 64\n",
        "heads: 2\n",
        "accum_count: 8\n",
        "warmup_steps: 8000\n",
        "optim: adam\n",
        "adam_beta1: 0.9\n",
        "adam_beta2: 0.998\n",
        "decay_method: noam\n",
        "learning_rate: 2.0\n",
        "max_grad_norm: 0.0\n",
        "batch_size: 50\n",
        "batch_type: tokens\n",
        "normalization: tokens\n",
        "dropout: 0.1\n",
        "label_smoothing: 0.1\n",
        "max_generator_batches: 2\n",
        "param_init: 0.0\n",
        "param_init_glorot: 'true'\n",
        "position_encoding: 'true'\n",
        "\n",
        "# Train on a single GPU\n",
        "world_size: 1\n",
        "gpu_ranks:\n",
        "  - 0\n",
        "\n",
        "# Checkpoints\n",
        "save_model: drive/MyDrive/NMT/models/EuTrans\n",
        "save_checkpoint_steps: 1000\n",
        "train_steps: 5000\n",
        "valid_steps: 1000\n",
        "keep_checkpoint: 10\n",
        "report_every: 100\n",
        "\n",
        "EOF"
      ],
      "metadata": {
        "id": "_GZ_U09KSlmi"
      },
      "execution_count": null,
      "outputs": []
    },
    {
      "cell_type": "markdown",
      "source": [
        "### Vocabulary building\n",
        "Prior to training the model, the vocabulary needs to be build. You can do so by doing:"
      ],
      "metadata": {
        "id": "4Mnyl6TLO_mQ"
      }
    },
    {
      "cell_type": "code",
      "source": [
        "! onmt_build_vocab -config config.yaml"
      ],
      "metadata": {
        "id": "1pIkZCTaPBaC"
      },
      "execution_count": null,
      "outputs": []
    },
    {
      "cell_type": "markdown",
      "source": [
        "### Model training"
      ],
      "metadata": {
        "id": "pbyUoOaKj7vY"
      }
    },
    {
      "cell_type": "markdown",
      "source": [
        "After that, you can start the training process by doing:"
      ],
      "metadata": {
        "id": "Yn0BUkdrRTNr"
      }
    },
    {
      "cell_type": "code",
      "source": [
        "! onmt_train -config config.yaml"
      ],
      "metadata": {
        "id": "hqkjkJe0Q-Re"
      },
      "execution_count": null,
      "outputs": []
    },
    {
      "cell_type": "markdown",
      "source": [
        "## Translation\n",
        "Once the network has been trained, the translation can be performed by doing:"
      ],
      "metadata": {
        "id": "onwhDtTPdj6i"
      }
    },
    {
      "cell_type": "code",
      "source": [
        "! onmt_translate -model drive/MyDrive/NMT/models/EuTrans_step_5000.pt -src OpenNMT-py/dataset/EuTrans/test.es -output drive/MyDrive/NMT/EuTrans-test.en.hyp -verbose -replace_unk"
      ],
      "metadata": {
        "id": "eCc5Sbf2b_fz"
      },
      "execution_count": null,
      "outputs": []
    },
    {
      "cell_type": "markdown",
      "source": [
        "## Evaluation\n",
        "Finally, the translation hypothesis can be evaluated by doing:"
      ],
      "metadata": {
        "id": "FaJOnq50eITO"
      }
    },
    {
      "cell_type": "code",
      "source": [
        "! sacrebleu --force OpenNMT-py/dataset/EuTrans/test.en < drive/MyDrive/NMT/EuTrans-test.en.hyp | glom score"
      ],
      "metadata": {
        "id": "tNaaQMyeeJ_v"
      },
      "execution_count": null,
      "outputs": []
    },
    {
      "cell_type": "markdown",
      "source": [
        "## Exercises\n",
        "\n",
        "* **Try different sizes of the word embeddings for source and target words.**"
      ],
      "metadata": {
        "id": "P8y9Pyf2Yhl3"
      }
    },
    {
      "cell_type": "markdown",
      "source": [
        "* **Try different optimization algorithms (e.g., SGD, Adagrad, Adadelta).**"
      ],
      "metadata": {
        "id": "31wfCOxYbM6B"
      }
    },
    {
      "cell_type": "markdown",
      "source": [
        "* **Try recurrent neural networks.**"
      ],
      "metadata": {
        "id": "YHzIIOUZY_gQ"
      }
    },
    {
      "cell_type": "markdown",
      "source": [
        "## Resources\n",
        "\n",
        "* [OpenNMT-py's documentation](https://opennmt.net/OpenNMT-py)."
      ],
      "metadata": {
        "id": "DsuC2eaummUn"
      }
    },
    {
      "cell_type": "markdown",
      "source": [
        "## References\n",
        "\n",
        "* Casacuberta, F., Ney, H., Och, F.J., Vidal, E., Vilar, J.M., Barrachina, S., García-Varea, I., Llorens, D., Hinarejos, C.D., & Molau, S. (2004). [Some approaches to statistical and finite-state speech-to-speech translation](https://doi.org/10.1016/S0885-2308(03)00028-7). Comput. Speech Lang., 18, 25–47.\n",
        "* Klein, G., Kim, Y., Deng, Y., Senellart, J., and Rush, A. M. (2017). [OpenNMT: Open-Source Toolkit for Neural Machine Translation](https://www.aclweb.org/anthology/P17-4012). In *Proceedings of the Association for Computational Linguistics: System Demonstration*, 67–72."
      ],
      "metadata": {
        "id": "o-h5RmbHFe-B"
      }
    }
  ]
}